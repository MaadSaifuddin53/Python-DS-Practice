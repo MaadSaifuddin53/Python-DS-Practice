{
  "nbformat": 4,
  "nbformat_minor": 0,
  "metadata": {
    "colab": {
      "provenance": [],
      "authorship_tag": "ABX9TyMaLBSLqDZqZ+7jCh3/pDM6",
      "include_colab_link": true
    },
    "kernelspec": {
      "name": "python3",
      "display_name": "Python 3"
    },
    "language_info": {
      "name": "python"
    }
  },
  "cells": [
    {
      "cell_type": "markdown",
      "metadata": {
        "id": "view-in-github",
        "colab_type": "text"
      },
      "source": [
        "<a href=\"https://colab.research.google.com/github/MaadSaifuddin53/Python-DS-Practice/blob/main/Array_Practice_Question.ipynb\" target=\"_parent\"><img src=\"https://colab.research.google.com/assets/colab-badge.svg\" alt=\"Open In Colab\"/></a>"
      ]
    },
    {
      "cell_type": "markdown",
      "source": [
        "## **Reverse the Array**"
      ],
      "metadata": {
        "id": "Gty6LRaPuvP6"
      }
    },
    {
      "cell_type": "code",
      "source": [
        "arr = [1,2,3,4]\n",
        "length = int(len(arr)/2)\n",
        "print(length)\n",
        "reverse_index = len(arr)-1\n",
        "for i in range(0,length):\n",
        "    #print(arr[i])\n",
        "    temp = arr[i]\n",
        "    arr[i] = arr[reverse_index]\n",
        "    arr[reverse_index] = temp\n",
        "    reverse_index -=1\n",
        "arr"
      ],
      "metadata": {
        "colab": {
          "base_uri": "https://localhost:8080/"
        },
        "id": "Mn0_-m9Nuyo8",
        "outputId": "a7f0d06f-ca8e-403d-a360-f26af6b24358"
      },
      "execution_count": 52,
      "outputs": [
        {
          "output_type": "stream",
          "name": "stdout",
          "text": [
            "2\n"
          ]
        },
        {
          "output_type": "execute_result",
          "data": {
            "text/plain": [
              "[4, 3, 2, 1]"
            ]
          },
          "metadata": {},
          "execution_count": 52
        }
      ]
    },
    {
      "cell_type": "markdown",
      "source": [
        "## **Declaration of 2d Array**"
      ],
      "metadata": {
        "id": "GmCX2lBUvFp2"
      }
    },
    {
      "cell_type": "code",
      "source": [
        "# Define the dimensions of the 2D array\n",
        "rows = 5  # Number of rows\n",
        "cols = 3  # Number of columns\n",
        "\n",
        "# Create a 2D array of empty arrays\n",
        "two_d_array = [[] for _ in range(rows)]\n",
        "print(two_d_array)\n",
        "# Initialize each sub-array as an empty array\n",
        "for i in range(rows):\n",
        "    two_d_array[i] = [list() for _ in range(cols)]\n",
        "    print(two_d_array[i])\n",
        "\n"
      ],
      "metadata": {
        "id": "zlV39X-VvEgt"
      },
      "execution_count": null,
      "outputs": []
    },
    {
      "cell_type": "markdown",
      "source": [
        "## **Find out the Max and min Sum from Array Element**"
      ],
      "metadata": {
        "id": "2HUvQwHauXa3"
      }
    },
    {
      "cell_type": "markdown",
      "source": [
        "### **Solution 1**"
      ],
      "metadata": {
        "id": "Z6MEmpbrvjBG"
      }
    },
    {
      "cell_type": "code",
      "source": [
        "def miniMaxSum(arr):\n",
        "    # Write your code here\n",
        "\n",
        "    lst = []\n",
        "    min = 0\n",
        "    max = 0\n",
        "    for i in range(len(arr)):\n",
        "        sum = 0\n",
        "        for j in range(i+1,len(arr)):\n",
        "            #print(i,\" Value \",j,\" \",arr[j])\n",
        "            sum = sum + arr[j]\n",
        "        index = i\n",
        "        #print(\"###################value of i\",index)\n",
        "        if i != 0:\n",
        "            while index >= 0:\n",
        "                index = index-1\n",
        "                if index == -1:\n",
        "                    break\n",
        "                #print(\" index \",index,' ',arr[index])\n",
        "                sum = sum + arr[index]\n",
        "        else:\n",
        "            pass\n",
        "        #print('Total Sum ', sum)\n",
        "        lst.append(sum)\n",
        "\n",
        "    lst.sort()\n",
        "    print(\"Final result \",lst[0],lst[-1])"
      ],
      "metadata": {
        "id": "hxc630WoeySi"
      },
      "execution_count": 58,
      "outputs": []
    },
    {
      "cell_type": "code",
      "source": [
        "arr = [426980153, 354802167, 142980735, 968217435, 734892650]\n",
        "miniMaxSum(arr)\n",
        "\n",
        "arr = [793810624, 895642170, 685903712, 623789054, 468592370]\n",
        "miniMaxSum(arr)"
      ],
      "metadata": {
        "colab": {
          "base_uri": "https://localhost:8080/"
        },
        "id": "NI2RZjpXvuZa",
        "outputId": "22608df6-3e5e-4d3d-8381-69c1d8b582b6"
      },
      "execution_count": 59,
      "outputs": [
        {
          "output_type": "stream",
          "name": "stdout",
          "text": [
            "Final result  1659655705 2484892405\n",
            "Final result  2572095760 2999145560\n"
          ]
        }
      ]
    },
    {
      "cell_type": "markdown",
      "source": [
        "**Time Complexity**: n2 + nlogn\n",
        "**Space Complexity:** o(1)\n"
      ],
      "metadata": {
        "id": "4Qngx7nY0YhX"
      }
    },
    {
      "cell_type": "markdown",
      "source": [
        "### **Solution 2**"
      ],
      "metadata": {
        "id": "9laxWz7i06PV"
      }
    },
    {
      "cell_type": "code",
      "source": [
        "def miniMaxSum(arr):\n",
        "  min = 0\n",
        "  max = 0\n",
        "  sum = 0\n",
        "  array_length = len(arr)\n",
        "  arr.sort()\n",
        "  j = array_length -1\n",
        "  for i in range(array_length-1):\n",
        "     min = min + arr[i]\n",
        "     max = max +arr[j]\n",
        "     j=j-1\n",
        "  print(min,max)"
      ],
      "metadata": {
        "id": "ygajUet80_VE"
      },
      "execution_count": 62,
      "outputs": []
    },
    {
      "cell_type": "code",
      "source": [
        "arr = [426980153, 354802167, 142980735, 968217435, 734892650]\n",
        "miniMaxSum(arr)\n",
        "\n",
        "arr = [793810624, 895642170, 685903712, 623789054, 468592370]\n",
        "miniMaxSum(arr)\n",
        "\n",
        "arr = [10, 12, 11, 6, 5]\n",
        "miniMaxSum(arr)"
      ],
      "metadata": {
        "colab": {
          "base_uri": "https://localhost:8080/"
        },
        "id": "yVMFxDcWFsPq",
        "outputId": "6007fa78-54c9-4e04-d366-03a4f530e36d"
      },
      "execution_count": 63,
      "outputs": [
        {
          "output_type": "stream",
          "name": "stdout",
          "text": [
            "1659655705 2484892405\n",
            "2572095760 2999145560\n",
            "32 39\n"
          ]
        }
      ]
    },
    {
      "cell_type": "markdown",
      "source": [
        "**Time Complexity**: nlogn"
      ],
      "metadata": {
        "id": "N900V7h8Gfpe"
      }
    },
    {
      "cell_type": "code",
      "source": [
        "def miniMaxSum(arr):\n",
        "    min = arr[0]\n",
        "    max = min\n",
        "    sum = 0\n",
        "\n",
        "    for i in range(len(arr)):\n",
        "        sum += arr[i]\n",
        "        if arr[i] > max:\n",
        "          max = arr[i]\n",
        "\n",
        "        if arr[i] < min:\n",
        "          min = arr[i]\n",
        "    print(min,max)\n",
        "    print(\"Sum of min and max \", sum-max, sum-min)"
      ],
      "metadata": {
        "id": "T3vHcfleHmRe"
      },
      "execution_count": 70,
      "outputs": []
    },
    {
      "cell_type": "code",
      "source": [
        "arr = [426980153, 354802167, 142980735, 968217435, 734892650]\n",
        "miniMaxSum(arr)\n",
        "\n",
        "arr = [793810624, 895642170, 685903712, 623789054, 468592370]\n",
        "miniMaxSum(arr)\n",
        "\n",
        "arr = [ 13, 5, 11, 9, 7 ]\n",
        "miniMaxSum(arr)"
      ],
      "metadata": {
        "colab": {
          "base_uri": "https://localhost:8080/"
        },
        "id": "ix9qFJS0Kqs1",
        "outputId": "2d907021-801d-4ff9-b8aa-588f19c6fd17"
      },
      "execution_count": 71,
      "outputs": [
        {
          "output_type": "stream",
          "name": "stdout",
          "text": [
            "142980735 968217435\n",
            "Sum of min and max  1659655705 2484892405\n",
            "468592370 895642170\n",
            "Sum of min and max  2572095760 2999145560\n",
            "5 13\n",
            "Sum of min and max  32 40\n"
          ]
        }
      ]
    },
    {
      "cell_type": "code",
      "source": [],
      "metadata": {
        "id": "fhroraSFjZGg"
      },
      "execution_count": null,
      "outputs": []
    }
  ]
}